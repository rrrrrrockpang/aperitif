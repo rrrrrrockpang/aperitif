{
 "cells": [
  {
   "cell_type": "code",
   "execution_count": null,
   "id": "381db391",
   "metadata": {},
   "outputs": [],
   "source": [
    "import glob, io, os, re\n",
    "from pdfminer.pdfinterp import PDFResourceManager, PDFPageInterpreter\n",
    "from pdfminer.layout import LAParams\n",
    "from pdfminer.converter import TextConverter\n",
    "from pdfminer.pdfpage import PDFPage\n",
    "from multiprocessing import Manager, Pool\n",
    "from tqdm import tqdm\n",
    "\n",
    "# pdf_paths = glob.glob('data/2018/*.pdf')\n",
    "def find_paper(input_path):\n",
    "    pdf_paths = sorted(glob.glob(input_path), key=os.path.getmtime)\n",
    "    path_set = set()\n",
    "    preregis_paths = []\n",
    "    for path in tqdm(pdf_paths):\n",
    "        try: \n",
    "            m = re.search(\"\\_(.+?)\\.\", path)\n",
    "            path_set.add(m.group(1))\n",
    "\n",
    "            rsrcmgr = PDFResourceManager()\n",
    "            retstr = io.StringIO()\n",
    "            device = TextConverter(rsrcmgr, retstr, codec='utf-8', laparams=LAParams())\n",
    "            pdf_file = open(path, 'rb')\n",
    "            interpreter = PDFPageInterpreter(rsrcmgr, device)\n",
    "\n",
    "            for page in PDFPage.get_pages(pdf_file):\n",
    "                interpreter.process_page(page)\n",
    "            text = retstr.getvalue().lower()\n",
    "\n",
    "            if 'preregister' in text or 'pre-register' in text or \\\n",
    "                'pre-registration' in text or 'preregistration' in text or \\\n",
    "                'open science framework' or 'osf' in text or 'aspredict' in text:\n",
    "                    print(\"Found experiment ...\", path)\n",
    "                    preregis_paths.append(path)\n",
    "\n",
    "            pdf_file.close()\n",
    "            device.close()\n",
    "            retstr.close()\n",
    "        except:\n",
    "            print(\"Alert: %s is not available. \", path)\n",
    "        \n",
    "    return preregis_paths\n",
    "\n",
    "    "
   ]
  },
  {
   "cell_type": "code",
   "execution_count": null,
   "id": "613dbb27",
   "metadata": {},
   "outputs": [],
   "source": [
    "print(\"############# 2021 Papers #################\")\n",
    "paper_2021 = find_paper('data/2021/*.pdf')\n",
    "\n",
    "print(\"############# 2020 Papers #################\")\n",
    "paper_2020 = find_paper('data/2020/*.pdf')\n",
    "\n",
    "print(\"############# 2019 Papers #################\")\n",
    "paper_2019 = find_paper('data/2019/*.pdf')\n",
    "\n",
    "print(\"############# 2018 Papers #################\")\n",
    "paper_2018 = find_paper('data/2018/*.pdf')"
   ]
  }
 ],
 "metadata": {
  "kernelspec": {
   "display_name": "venv",
   "language": "python",
   "name": "venv"
  },
  "language_info": {
   "codemirror_mode": {
    "name": "ipython",
    "version": 3
   },
   "file_extension": ".py",
   "mimetype": "text/x-python",
   "name": "python",
   "nbconvert_exporter": "python",
   "pygments_lexer": "ipython3",
   "version": "3.9.6"
  }
 },
 "nbformat": 4,
 "nbformat_minor": 5
}
